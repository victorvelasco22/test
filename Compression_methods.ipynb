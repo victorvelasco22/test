{
  "nbformat": 4,
  "nbformat_minor": 0,
  "metadata": {
    "colab": {
      "provenance": []
    },
    "kernelspec": {
      "name": "python3",
      "display_name": "Python 3"
    },
    "language_info": {
      "name": "python"
    }
  },
  "cells": [
    {
      "cell_type": "markdown",
      "source": [
        "# Functions"
      ],
      "metadata": {
        "id": "8LpoOqRqSZZB"
      }
    },
    {
      "cell_type": "code",
      "execution_count": 24,
      "metadata": {
        "id": "7pP-90sfRqZv"
      },
      "outputs": [],
      "source": [
        "import zlib\n",
        "import lzma\n",
        "import bz2\n",
        "import gzip\n",
        "\n",
        "#read the utf-16-le file\n",
        "def open_txt():\n",
        "  with open(\"/content/test_file.txt\", \"rb\") as f:\n",
        "        text = f.read().decode(\"utf-16-le\", errors=\"strict\")\n",
        "  return text\n",
        "\n",
        "#encoding of the text to utf-16-le for compression\n",
        "def encodes(text):\n",
        "  return text.encode(encoding='utf-16-le', errors='strict')\n",
        "\n",
        "#decode the text back to utf-16\n",
        "def decodes(text):\n",
        "  return text.decode(encoding='utf-16-le', errors='strict')\n",
        "\n",
        "#fragment text in blocks of 32 bytes\n",
        "def frament_the_text(text):\n",
        "  payload = list()\n",
        "  for i in range(0,len(text), 32):\n",
        "    payload.append(text[i:i+32])\n",
        "  return payload"
      ]
    },
    {
      "cell_type": "code",
      "source": [
        "# function to check that original and decompressed string are the same\n",
        "def are_strings_equal_zlib(original, compressed):\n",
        "  decompressed = decodes(zlib.decompress(compressed))\n",
        "  print(\"Original:\")\n",
        "  #print(original)\n",
        "  print(\"Decompressed:\")\n",
        "  #print(decompressed)\n",
        "  if decompressed == original:\n",
        "    print(\"compression ok\")\n",
        "  else:\n",
        "    print(\"compression wrong\")\n",
        "\n",
        "# function to check that original and decompressed string are the same\n",
        "def are_strings_equal_lzma(original, compressed):\n",
        "  decompressed = decodes(lzma.decompress(compressed))\n",
        "  if decompressed == original:\n",
        "    print(\"compression ok\")\n",
        "  else:\n",
        "    print(\"compression wrong\")\n",
        "\n",
        "# function to check that original and decompressed string are the same\n",
        "def are_strings_equal_bz2(original, compressed):\n",
        "  decompressed = decodes(bz2.decompress(compressed))\n",
        "  if decompressed == original:\n",
        "    print(\"compression ok\")\n",
        "  else:\n",
        "    print(\"compression wrong\")\n",
        "\n",
        "# function to check that original and decompressed string are the same\n",
        "def are_strings_equal_gzip(original, compressed):\n",
        "  decompressed = decodes(gzip.decompress(compressed))\n",
        "  if decompressed == original:\n",
        "    print(\"compression ok\")\n",
        "  else:\n",
        "    print(\"compression wrong\")"
      ],
      "metadata": {
        "id": "okZT95gdVG60"
      },
      "execution_count": 29,
      "outputs": []
    },
    {
      "cell_type": "markdown",
      "source": [
        "# Create a random txt of 10.000 lines"
      ],
      "metadata": {
        "id": "to_23UMPHPUr"
      }
    },
    {
      "cell_type": "code",
      "source": [
        "import random\n",
        "import string\n",
        "import unicodedata\n",
        "\n",
        "# Define the file name and the number of lines to be created\n",
        "filename = \"test_file.txt\"\n",
        "num_lines = 10000\n",
        "\n",
        "# Define the text for the first three lines\n",
        "line1 = \"Fitxer de prova de la competició Quick Mode MTP-S’23 TEAM C, editat el 13 d’Abril del 2023, a veure si tot va bé i la línia arriba sencera i sense errors incloent caràcters curiosos com æ, ę, î, ô, ü.\"\n",
        "line2 = \"… i aquesta és la segona línia, a veure que tal va.\"\n",
        "line3 = \"… i ja no posem més línies perque de fet, amb una n’hi ha prou.\"\n",
        "\n",
        "# Get a list of all non-ASCII letters and digits\n",
        "non_ascii_chars = [chr(i) for i in range(0x00A1, 0x0100) if not unicodedata.category(chr(i)).startswith('A')]\n",
        "\n",
        "print(non_ascii_chars)\n",
        "# Open the file for writing\n",
        "with open(filename, 'w', encoding='utf-16-le') as file:\n",
        "    # Write the first three lines\n",
        "    file.write(f\"1\\t{line1}\\n\")\n",
        "    file.write(f\"2\\t{line2}\\n\")\n",
        "    file.write(f\"3\\t{line3}\\n\")\n",
        "    \n",
        "    # Write the remaining lines\n",
        "    for i in range(4, num_lines+1):\n",
        "        # Generate a random string of length between 10 and 50 characters\n",
        "        rand_string = ''.join(random.choices(string.ascii_letters + string.digits + string.punctuation + random.choice(non_ascii_chars), k=random.randint(10,100)))\n",
        "        # Write the line with a tab character and the generated string\n",
        "        file.write(f\"{i}\\t{rand_string}\\n\")\n",
        "\n",
        "print(\"File created successfully.\")"
      ],
      "metadata": {
        "id": "qZzj4YWOHSLv",
        "colab": {
          "base_uri": "https://localhost:8080/"
        },
        "outputId": "0fc504d3-ba21-49bf-c4bc-cce6c61f90df"
      },
      "execution_count": 26,
      "outputs": [
        {
          "output_type": "stream",
          "name": "stdout",
          "text": [
            "['¡', '¢', '£', '¤', '¥', '¦', '§', '¨', '©', 'ª', '«', '¬', '\\xad', '®', '¯', '°', '±', '²', '³', '´', 'µ', '¶', '·', '¸', '¹', 'º', '»', '¼', '½', '¾', '¿', 'À', 'Á', 'Â', 'Ã', 'Ä', 'Å', 'Æ', 'Ç', 'È', 'É', 'Ê', 'Ë', 'Ì', 'Í', 'Î', 'Ï', 'Ð', 'Ñ', 'Ò', 'Ó', 'Ô', 'Õ', 'Ö', '×', 'Ø', 'Ù', 'Ú', 'Û', 'Ü', 'Ý', 'Þ', 'ß', 'à', 'á', 'â', 'ã', 'ä', 'å', 'æ', 'ç', 'è', 'é', 'ê', 'ë', 'ì', 'í', 'î', 'ï', 'ð', 'ñ', 'ò', 'ó', 'ô', 'õ', 'ö', '÷', 'ø', 'ù', 'ú', 'û', 'ü', 'ý', 'þ', 'ÿ']\n",
            "File created successfully.\n"
          ]
        }
      ]
    },
    {
      "cell_type": "markdown",
      "source": [
        "# No Compression"
      ],
      "metadata": {
        "id": "Z89_RVzTSdpu"
      }
    },
    {
      "cell_type": "code",
      "source": [
        "#read the file\n",
        "original_text = open_txt()\n",
        "text_to_tx = encodes(original_text)\n",
        "\n",
        "#fragment text in blocks of 32 bytes\n",
        "payload = frament_the_text(text_to_tx)\n",
        "\n",
        "print('length: ' + str(len(text_to_tx)))\n",
        "print('num. packets: ' + str(len(payload)))"
      ],
      "metadata": {
        "colab": {
          "base_uri": "https://localhost:8080/"
        },
        "id": "B_x0wOdESV0X",
        "outputId": "c384a603-7058-4967-8ce7-92b7756de722"
      },
      "execution_count": 30,
      "outputs": [
        {
          "output_type": "stream",
          "name": "stdout",
          "text": [
            "length: 1216848\n",
            "num. packets: 38027\n"
          ]
        }
      ]
    },
    {
      "cell_type": "markdown",
      "source": [
        "# Compressions"
      ],
      "metadata": {
        "id": "UbtQCo2NTIt_"
      }
    },
    {
      "cell_type": "code",
      "source": [
        "#read the file\n",
        "original_text = open_txt()\n",
        "text_to_tx = encodes(original_text)\n",
        "\n",
        "# level = 9 -> max compression, but slowest\n",
        "text_compressed = zlib.compress(text_to_tx ,level=9)\n",
        "payload = frament_the_text(text_compressed)\n",
        "\n",
        "print('length: ' + str(len(text_compressed)))\n",
        "print('num. packets: ' + str(len(payload)))\n",
        "\n",
        "are_strings_equal_zlib(original_text, text_compressed)"
      ],
      "metadata": {
        "colab": {
          "base_uri": "https://localhost:8080/"
        },
        "id": "M6auJ80vTIWm",
        "outputId": "aa0238b0-3457-4eef-a164-353e22744ec3"
      },
      "execution_count": 31,
      "outputs": [
        {
          "output_type": "stream",
          "name": "stdout",
          "text": [
            "length: 622259\n",
            "num. packets: 19446\n",
            "Original:\n",
            "Decompressed:\n",
            "compression ok\n"
          ]
        }
      ]
    },
    {
      "cell_type": "code",
      "source": [
        "#read the file\n",
        "original_text = open_txt()\n",
        "text_to_tx = encodes(original_text)\n",
        "\n",
        "# preset = 9 -> max compression, but slowest\n",
        "text_compressed = lzma.compress(text_to_tx, preset=9)\n",
        "\n",
        "payload = frament_the_text(text_compressed)\n",
        "\n",
        "print('length: ' + str(len(text_compressed)))\n",
        "print('num. packets: ' + str(len(payload)))\n",
        "\n",
        "are_strings_equal_lzma(original_text, text_compressed)"
      ],
      "metadata": {
        "colab": {
          "base_uri": "https://localhost:8080/"
        },
        "id": "fibUtfnRWz1E",
        "outputId": "538cab8c-1469-4837-d603-d654dc75225d"
      },
      "execution_count": 36,
      "outputs": [
        {
          "output_type": "stream",
          "name": "stdout",
          "text": [
            "length: 503584\n",
            "num. packets: 15737\n",
            "compression ok\n"
          ]
        }
      ]
    },
    {
      "cell_type": "code",
      "source": [
        "#read the file\n",
        "original_text = open_txt()\n",
        "text_to_tx = encodes(original_text)\n",
        "\n",
        "# compresslevel=9 -> max compression, but slowest\n",
        "text_compressed = bz2.compress(text_to_tx, compresslevel=9)\n",
        "\n",
        "payload = frament_the_text(text_compressed)\n",
        "\n",
        "print('length: ' + str(len(text_compressed)))\n",
        "print('num. packets: ' + str(len(payload)))\n",
        "\n",
        "are_strings_equal_bz2(original_text, text_compressed)"
      ],
      "metadata": {
        "colab": {
          "base_uri": "https://localhost:8080/"
        },
        "id": "P01CB7JYZFQU",
        "outputId": "fc3da4c6-0bd6-4f9f-b0d4-e016f7a4f4f2"
      },
      "execution_count": 33,
      "outputs": [
        {
          "output_type": "stream",
          "name": "stdout",
          "text": [
            "length: 498529\n",
            "num. packets: 15580\n",
            "compression ok\n"
          ]
        }
      ]
    },
    {
      "cell_type": "code",
      "source": [
        "#read the file\n",
        "original_text = open_txt()\n",
        "text_to_tx = encodes(original_text)\n",
        "\n",
        "# compresslevel=9 -> max compression, but slowest\n",
        "text_compressed = gzip.compress(text_to_tx, compresslevel=9)\n",
        "\n",
        "payload = frament_the_text(text_compressed)\n",
        "\n",
        "print('length: ' + str(len(text_compressed)))\n",
        "print('num. packets: ' + str(len(payload)))\n",
        "\n",
        "are_strings_equal_gzip(original_text, text_compressed)"
      ],
      "metadata": {
        "colab": {
          "base_uri": "https://localhost:8080/"
        },
        "id": "3C4VPwMgZY1F",
        "outputId": "ecb5a0c2-3850-4f34-a44e-f3d0225dddea"
      },
      "execution_count": 34,
      "outputs": [
        {
          "output_type": "stream",
          "name": "stdout",
          "text": [
            "length: 622271\n",
            "num. packets: 19446\n",
            "compression ok\n"
          ]
        }
      ]
    }
  ]
}